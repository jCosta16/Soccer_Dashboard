{
 "cells": [
  {
   "cell_type": "code",
   "execution_count": 2,
   "metadata": {},
   "outputs": [],
   "source": [
    "# Dependencies\n",
    "import requests\n",
    "import os\n",
    "from os.path  import basename\n",
    "from bs4 import BeautifulSoup\n",
    "import pandas as pd\n",
    "from glob import glob\n",
    "import datetime\n",
    "from datetime import datetime\n",
    "import time\n",
    "import copy\n",
    "from random import randint\n",
    "import unicodedata\n",
    "import pprint\n",
    "import json"
   ]
  },
  {
   "cell_type": "code",
   "execution_count": 44,
   "metadata": {},
   "outputs": [],
   "source": [
    "leagues_df = pd.read_csv(\"../../data/leagues_data.csv\", index_col=False)"
   ]
  },
  {
   "cell_type": "code",
   "execution_count": 45,
   "metadata": {
    "scrolled": false
   },
   "outputs": [
    {
     "name": "stdout",
     "output_type": "stream",
     "text": [
      "{'Leagues': [{'country': 'Brazil',\n",
      "              'league_ID': 1,\n",
      "              'league_link': 'https://www.transfermarkt.com/campeonato-brasileiro-serie-a/startseite/wettbewerb/BRA1',\n",
      "              'league_name': 'Brazil Serie A',\n",
      "              'tier': 1},\n",
      "             {'country': 'Brazil',\n",
      "              'league_ID': 2,\n",
      "              'league_link': 'https://www.transfermarkt.com/campeonato-brasileiro-serie-a/startseite/wettbewerb/BRA2',\n",
      "              'league_name': 'Brazil Serie B',\n",
      "              'tier': 2},\n",
      "             {'country': 'United States',\n",
      "              'league_ID': 3,\n",
      "              'league_link': 'https://www.transfermarkt.com/major-league-soccer/startseite/wettbewerb/MLS1',\n",
      "              'league_name': 'Major League Soccer',\n",
      "              'tier': 1},\n",
      "             {'country': 'United States',\n",
      "              'league_ID': 4,\n",
      "              'league_link': 'https://www.transfermarkt.com/usl-pro/startseite/wettbewerb/USL',\n",
      "              'league_name': 'USL Championship',\n",
      "              'tier': 2}]}\n"
     ]
    }
   ],
   "source": [
    "soccer_data = {\"Leagues\": leagues_df.to_dict(orient='records')}\n",
    "pprint.pprint(soccer_data)"
   ]
  },
  {
   "cell_type": "code",
   "execution_count": 46,
   "metadata": {},
   "outputs": [],
   "source": [
    "# to be able to scrape this website we need to use 'User Agents'\n",
    "# more info about user agents in 'https://webscraping.com/blog/User-agents/'\n",
    "# You can find your User-Agent at 'http://whatsmyuseragent.com/'\n",
    "headers = {'User-Agent': \n",
    "           'Mozilla/5.0 (Windows NT 10.0; Win64; x64) AppleWebKit/537.36 (KHTML, like Gecko) Chrome/79.0.3945.130 Safari/537.36'}"
   ]
  },
  {
   "cell_type": "code",
   "execution_count": 47,
   "metadata": {},
   "outputs": [],
   "source": [
    "convert_url = \"https://www.google.com/search?q=euro+to+dollar&oq=eur&aqs=chrome.1.69i57j35i39j0j46j0l2j69i61l2.2373j1j4&sourceid=chrome&ie=UTF-8\"\n",
    "html = requests.get(convert_url, headers=headers)\n",
    "soup = BeautifulSoup(html.content, 'html.parser')\n",
    "curr_value = soup.find('div', class_= \"b1hJbf\")\n",
    "curr_value = round(float(curr_value[\"data-exchange-rate\"]),2)\n",
    "\n",
    "def get_value_us(x):\n",
    "    value = []\n",
    "    for char in x:\n",
    "        value.append(char)\n",
    "    if value[-1] == \"m\":\n",
    "        float_value = \"\".join(value[1:-1])\n",
    "        return round(float(float_value)*curr_value,2)\n",
    "    else:\n",
    "        float_value = \"\".join(value[1:-3])\n",
    "        return round((float(float_value)*curr_value)/1000,2)\n"
   ]
  },
  {
   "cell_type": "code",
   "execution_count": 48,
   "metadata": {},
   "outputs": [],
   "source": [
    "def strip_accents(text):\n",
    "\n",
    "    try:\n",
    "        text = unicode(text, 'utf-8')\n",
    "    except NameError: # unicode is a default on python 3 \n",
    "        pass\n",
    "\n",
    "    text = unicodedata.normalize('NFD', text)\\\n",
    "           .encode('ascii', 'ignore')\\\n",
    "           .decode(\"utf-8\")\n",
    "\n",
    "    return str(text.strip())"
   ]
  },
  {
   "cell_type": "code",
   "execution_count": 49,
   "metadata": {},
   "outputs": [],
   "source": [
    "def fix_heights(soccer_data1):\n",
    "    for player in soccer_data1['Players']:\n",
    "        \n",
    "        if player[\"Height\"] == 0:\n",
    "            list_height= []\n",
    "            targ_player = player\n",
    "            nat = targ_player[\"Nat\"]\n",
    "            position = targ_player[\"position\"]\n",
    "            field_position = targ_player[\"field_position\"]\n",
    "#             print(\"Targuet Player\",targ_player[\"name\"])\n",
    "            for player in soccer_data1['Players']:\n",
    "                if player[\"position\"] == position and player[\"Nat\"] == nat:\n",
    "                    if player[\"Height\"] != 0:\n",
    "#                         print(player[\"name\"])\n",
    "                        list_height.append(player[\"Height\"])\n",
    "\n",
    "                if len(list_height) == 0:\n",
    "#                     print(\"lista vazia1\", targ_player[\"name\"])\n",
    "                    if player[\"field_position\"] == field_position and player[\"Nat\"] == nat:\n",
    "                        if player[\"Height\"] != 0:\n",
    "#                             print(player[\"name\"])\n",
    "                            list_height.append(player[\"Height\"])\n",
    "\n",
    "                if len(list_height) == 0:\n",
    "#                     print(\"lista vazia2\", targ_player[\"name\"])\n",
    "                    if player[\"field_position\"] == field_position:\n",
    "                        if player[\"Height\"] != 0:\n",
    "#                             print(player[\"name\"])\n",
    "                            list_height.append(player[\"Height\"])\n",
    "\n",
    "#             print(\"----antes\",targ_player[\"Height\"], targ_player[\"name\"])\n",
    "            targ_player[\"Height\"] = round(sum(list_height) / len(list_height),2)\n",
    "#             print(list_height)\n",
    "#             print(\"--- depois\", targ_player[\"name\"], targ_player[\"Height\"])\n"
   ]
  },
  {
   "cell_type": "code",
   "execution_count": 57,
   "metadata": {},
   "outputs": [],
   "source": [
    "def scrape_league_data(soccer_data):\n",
    "    team_id = 1\n",
    "    \n",
    "    for league in soccer_data[\"Leagues\"]:\n",
    "        teams = []\n",
    "        leaguename = league['league_name']\n",
    "        url = league[\"league_link\"]\n",
    "        print(f\"scraping: {league['country']}_{league['tier']}_{league['league_name']}\")\n",
    "        time.sleep(3)\n",
    "        html = requests.get(url, headers=headers)\n",
    "        soup = BeautifulSoup(html.content, 'html.parser')\n",
    "        htmltable = soup.find('table', class_= \"items\")\n",
    "        results = htmltable.findAll(\"tr\", class_ =[\"odd\",\"even\"])\n",
    "#         league['clubs'] = {}\n",
    "        for result in results:\n",
    "            features = result.findAll(\"td\")\n",
    "            link = (\"https://www.transfermarkt.com\"+result.find(\"a\", href=True)\\\n",
    "                          [\"href\"]+\"/plus/1\").replace(\"startseite\", \"kader\")\n",
    "            logo = result.find(\"img\", src=True)[\"src\"]\n",
    "            logo = logo.split(\"?\")[0]\n",
    "            logo = logo.replace(\"tiny\", \"header\")\n",
    "            name = strip_accents(features[1].text)\n",
    "            squad = int(features[3].text)\n",
    "            foreigner = int(features[5].text)\n",
    "            total_MV = float(get_value_us(features[6].text))\n",
    "            avg_MV = float(get_value_us(features[7].text))\n",
    "            \n",
    "#             # All data\n",
    "            teams.append({\"team_ID\" : team_id, \"league_ID\":league[\"league_ID\"], 'league_name': leaguename,  \"club\" : name, \n",
    "                          \"squad\" : squad, \"foreigners\" : foreigner, \"avg_market_m\" : avg_MV,\n",
    "                             \"total_MV_m\" : total_MV, \"Logo_img\" : logo, \"link_page\" : link})\n",
    "              \n",
    "#             # hierachy\n",
    "#             teams.append({\"team_ID\" : team_id,\"club\" : name, \"squad\" : squad, \"foreigners\" : foreigner, \"avg_market_m\" : avg_MV,\n",
    "#                           \"total_MV_m\" : total_MV, \"Logo_img\" : logo, \"link_page\" : link})\n",
    "            team_id = team_id + 1\n",
    "        league[\"Clubs\"] = teams\n",
    "#     soccer_data['Clubs'] = teams\n",
    "\n",
    "\n"
   ]
  },
  {
   "cell_type": "code",
   "execution_count": 67,
   "metadata": {},
   "outputs": [],
   "source": [
    "def scrape_team_data(soccer_data):\n",
    "    player_id = 1\n",
    "    players = []\n",
    "    for league in soccer_data[\"Leagues\"]:\n",
    "        for club in league[\"Clubs\"]:\n",
    "            team_id = club[\"team_ID\"]\n",
    "            team_link = club[\"link_page\"]\n",
    "            print(club[\"club\"])\n",
    "            time.sleep(randint(1,2))\n",
    "            html = requests.get(team_link, headers=headers)\n",
    "            soup = BeautifulSoup(html.content, 'html.parser')\n",
    "            htmltable = soup.find('table', class_= \"items\")\n",
    "            results = htmltable.findAll(\"tr\", class_ =[\"odd\",\"even\"])\n",
    "\n",
    "            for result in results:\n",
    "                features = result.findAll(\"td\")\n",
    "\n",
    "                name_1 = features[2].find(\"img\", alt=True)[\"alt\"]\n",
    "\n",
    "                player_page = \"https://www.transfermarkt.com\" + features[3].find(\"a\", href=True)[\"href\"]\n",
    "\n",
    "                position_1 = features[4].text\n",
    "\n",
    "                if position_1 in (\"Centre-Back\", \"Left-Back\", \"Right-Back\", \"Defender\"):\n",
    "                    field_posit = \"DEF\"\n",
    "                elif position_1 in (\"Defensive Midfield\", \"Central Midfield\" , \"Right Midfield\" , \"Left Midfield\" , \\\n",
    "                \"Attacking Midfield\" , \"Midfield\"):\n",
    "                    field_posit = \"MID\"\n",
    "                elif position_1 in (\"Left Winger\" , \"Right Winger\" , \"Centre-Forward\" , \"Second Striker\" , \"Forward\"):\n",
    "                    field_posit = \"ATT\"\n",
    "                else:\n",
    "                    field_posit = \"GLK\"\n",
    "\n",
    "                try:\n",
    "                    age_1 = int((features[5].text.split(\"(\",)[-1])[:-1])\n",
    "                except:\n",
    "                    age_1 = \"\"\n",
    "\n",
    "                nat = features[6].img[\"alt\"]\n",
    "\n",
    "                try:\n",
    "                    Height_1 = float((features[7].text.split(\" \")[0]).replace(\",\", \".\"))\n",
    "                except:\n",
    "                    Height_1 = 0\n",
    "\n",
    "                foot_1 = features[8].text\n",
    "\n",
    "                dt_joined_1 = features[9].text\n",
    "                try:\n",
    "                    dt_joined_1 = str(datetime.strptime(dt_joined_1, '%b %d, %Y').date())\n",
    "\n",
    "\n",
    "                except:\n",
    "                    dt_joined_1 = \"\"\n",
    "\n",
    "                try:\n",
    "                    prev_team_1 = strip_accents(features[10].img[\"alt\"])\n",
    "                except:\n",
    "                    prev_team_1 = \"N.A.\"\n",
    "\n",
    "\n",
    "                contract_expires_1 = features[11].text\n",
    "                try:\n",
    "                    contract_expires_1 = str(datetime.strptime(contract_expires_1, '%d.%m.%Y').date())\n",
    "                except:\n",
    "                    contract_expires_1 = \"\"\n",
    "\n",
    "                try:\n",
    "                    market_value_1 = get_value_us(features[12].text[:-2])\n",
    "                except:\n",
    "                    market_value_1 = 0\n",
    "\n",
    "                players.append({\"players_ID\": player_id, \"team_ID\": team_id, \"league_ID\":club[\"league_ID\"], \"league_name\": club[\"league_name\"], \"name\": name_1, \"position\": position_1,\"field_position\": field_posit, \"Age\":age_1,\"Nat\": nat, \"Height\": Height_1, \"foot\": foot_1,  'dt_joined': dt_joined_1,\"prev_team\": prev_team_1,\\\n",
    "                            \"contract_expires\": contract_expires_1, \"market_value\": market_value_1,\"player_page\": player_page}) \n",
    "                player_id = player_id+1\n",
    "        # players dentro dos clubes (hierarchy)\n",
    "#         club[\"Players\"] = players\n",
    "\n",
    "# players separado dos clubs #\n",
    "    soccer_data[\"Players\"] = players \n",
    "        "
   ]
  },
  {
   "cell_type": "code",
   "execution_count": 58,
   "metadata": {
    "scrolled": true
   },
   "outputs": [
    {
     "name": "stdout",
     "output_type": "stream",
     "text": [
      "scraping: Brazil_1_Brazil Serie A\n",
      "scraping: Brazil_2_Brazil Serie B\n",
      "scraping: United States_1_Major League Soccer\n",
      "scraping: United States_2_USL Championship\n"
     ]
    }
   ],
   "source": [
    "scrape_league_data(soccer_data)"
   ]
  },
  {
   "cell_type": "code",
   "execution_count": 69,
   "metadata": {
    "scrolled": true
   },
   "outputs": [
    {
     "name": "stdout",
     "output_type": "stream",
     "text": [
      "Clube de Regatas do Flamengo\n",
      "Sociedade Esportiva Palmeiras\n",
      "Gremio Foot-Ball Porto Alegrense\n",
      "Sport Club Corinthians Paulista\n",
      "Sao Paulo Futebol Clube\n",
      "Sport Club Internacional\n",
      "Clube Atletico Mineiro\n",
      "Santos FC\n",
      "Fluminense Football Club\n",
      "Club de Regatas Vasco da Gama\n",
      "Club Athletico Paranaense\n",
      "Esporte Clube Bahia\n",
      "Red Bull Bragantino\n",
      "Botafogo Rio de Janeiro\n",
      "Goias Esporte Clube\n",
      "Coritiba Foot Ball Club\n",
      "Sport Club do Recife\n",
      "Ceara Sporting Club\n",
      "Fortaleza Esporte Clube\n",
      "Atletico Clube Goianiense\n",
      "Cruzeiro Esporte Clube\n",
      "Centro Sportivo Alagoano (AL)\n",
      "Avai Futebol Clube (SC)\n",
      "Associacao Atletica Ponte Preta\n",
      "Clube de Regatas Brasil (AL)\n",
      "Esporte Clube Juventude\n",
      "Esporte Clube Vitoria\n",
      "Associacao Chapecoense de Futebol\n",
      "Figueirense Futebol Clube\n",
      "Guarani Futebol Clube (SP)\n",
      "Cuiaba Esporte Clube (MT)\n",
      "Clube Nautico Capibaribe\n",
      "America Futebol Clube (MG)\n",
      "Botafogo Futebol Clube (SP)\n",
      "Gremio Esportivo Brasil (RS)\n",
      "Parana Clube\n",
      "Oeste Futebol Clube (SP)\n",
      "Operario Ferroviario Esporte Clube (PR)\n",
      "Associacao Desportiva Confianca (SE)\n",
      "Sampaio Correa Futebol Clube (MA)\n",
      "Atlanta United FC\n",
      "Los Angeles FC\n",
      "Inter Miami CF\n",
      "Los Angeles Galaxy\n",
      "Toronto FC\n",
      "New York City FC\n",
      "Seattle Sounders FC\n",
      "Sporting Kansas City\n",
      "Columbus Crew SC\n",
      "Portland Timbers\n",
      "FC Cincinnati\n",
      "FC Dallas\n",
      "Chicago Fire FC\n",
      "D.C. United\n",
      "Montreal Impact\n",
      "Orlando City SC\n",
      "New England Revolution\n",
      "New York Red Bulls\n",
      "Houston Dynamo\n",
      "Colorado Rapids\n",
      "Vancouver Whitecaps FC\n",
      "Minnesota United FC\n",
      "San Jose Earthquakes\n",
      "Philadelphia Union\n",
      "Real Salt Lake City\n",
      "Nashville SC\n",
      "Phoenix Rising FC\n",
      "San Antonio FC\n",
      "Tacoma Defiance\n",
      "Indy Eleven\n",
      "Louisville City FC\n",
      "Austin Bold FC\n",
      "Oklahoma City Energy FC\n",
      "Orange County SC\n",
      "Memphis 901 FC\n",
      "Colorado Springs Switchbacks FC\n",
      "FC Tulsa\n",
      "El Paso Locomotive FC\n",
      "Tampa Bay Rowdies\n",
      "Sacramento Republic FC\n",
      "San Diego Loyal SC\n",
      "Miami FC\n",
      "Saint Louis FC\n",
      "New Mexico United\n",
      "Charlotte Independence\n",
      "North Carolina FC\n",
      "Pittsburgh Riverhounds SC\n",
      "Reno 1868 FC\n",
      "Real Monarchs SLC\n",
      "Charleston Battery\n",
      "Las Vegas Lights FC\n",
      "Birmingham Legion FC\n",
      "Portland Timbers 2\n",
      "Hartford Athletic\n",
      "Rio Grande Valley FC Toros\n",
      "Sporting Kansas City II\n",
      "Philadelphia Union II\n",
      "Loudoun United FC\n",
      "Los Angeles Galaxy II\n",
      "Atlanta United 2\n",
      "New York Red Bulls II\n"
     ]
    }
   ],
   "source": [
    "scrape_team_data(soccer_data)"
   ]
  },
  {
   "cell_type": "code",
   "execution_count": null,
   "metadata": {},
   "outputs": [],
   "source": [
    "# with open('testdata3.json', 'w') as fp:\n",
    "#     json.dump(soccer_data, fp)"
   ]
  },
  {
   "cell_type": "code",
   "execution_count": 70,
   "metadata": {},
   "outputs": [],
   "source": [
    "fix_heights(soccer_data)\n",
    "with open('dict_soccer_data_hieranchy.json', 'w') as fp:\n",
    "    json.dump(soccer_data, fp)"
   ]
  },
  {
   "cell_type": "code",
   "execution_count": 73,
   "metadata": {},
   "outputs": [
    {
     "name": "stdout",
     "output_type": "stream",
     "text": [
      "2\n"
     ]
    }
   ],
   "source": [
    "pprint.pprint(len(soccer_data))"
   ]
  },
  {
   "cell_type": "markdown",
   "metadata": {},
   "source": [
    "# TESTES"
   ]
  },
  {
   "cell_type": "code",
   "execution_count": 24,
   "metadata": {},
   "outputs": [],
   "source": [
    "with open('testdata5.json') as f:\n",
    "    soccer_data1 = json.load(f)\n",
    "\n"
   ]
  },
  {
   "cell_type": "code",
   "execution_count": 35,
   "metadata": {},
   "outputs": [],
   "source": [
    "for league in soccer_data1[\"Leagues\"]:\n",
    "    clubs = []\n",
    "#     clubs = 1\n",
    "    for club in soccer_data1[\"Clubs\"]:\n",
    "#     for league in soccer_data1[\"Leagues\"]:\n",
    "#         clubs = 1\n",
    "        if club[\"league_ID\"] == league[\"league_ID\"]:\n",
    "#             print(club[\"club\"], league[\"league_name\"], clubs)\n",
    "#             clubs = clubs +1\n",
    "#     print(clubs, \"-----\")\n",
    "            \n",
    "            clubs.append(club)\n",
    "    league[\"Clubs\"] = clubs\n",
    "    \n",
    "del soccer_data1[\"Clubs\"]"
   ]
  },
  {
   "cell_type": "code",
   "execution_count": 38,
   "metadata": {},
   "outputs": [],
   "source": [
    "# with open('testdata5.json', 'w') as fp:\n",
    "#     json.dump(soccer_data1, fp)"
   ]
  },
  {
   "cell_type": "markdown",
   "metadata": {},
   "source": [
    "## Save scraped data on SQL Database"
   ]
  },
  {
   "cell_type": "code",
   "execution_count": null,
   "metadata": {},
   "outputs": [],
   "source": [
    "from sqlalchemy import *\n",
    "from sqlalchemy.schema import *\n",
    "from sqlalchemy.ext.declarative import declarative_base\n",
    "from sqlalchemy.sql import text\n",
    "import contextlib \n",
    "import json"
   ]
  },
  {
   "cell_type": "code",
   "execution_count": null,
   "metadata": {},
   "outputs": [],
   "source": [
    "rds_connection_string = \"postgres:PostgreSQL@localhost:5432/trfmk_scrape_db\"\n",
    "engine = create_engine(f'postgresql://{rds_connection_string}')\n",
    "metadata = MetaData()\n"
   ]
  },
  {
   "cell_type": "code",
   "execution_count": null,
   "metadata": {},
   "outputs": [],
   "source": [
    "leagues_df = pd.read_csv(\"data/leagues_data.csv\")\n",
    "teams_df = pd.read_csv(\"data/teams_trmk.csv\")\n",
    "# fix \n",
    "players_df = pd.read_csv(\"data/players_trmk1.csv\")"
   ]
  },
  {
   "cell_type": "code",
   "execution_count": null,
   "metadata": {},
   "outputs": [],
   "source": [
    "engine.execute(DropSchema('public', cascade = True))\n",
    "engine.execute('CREATE SCHEMA IF NOT EXISTS public;')\n",
    "\n",
    "players_df.to_sql(name = 'players',index_label= None, index= False, con=engine, if_exists='replace')\n",
    "teams_df.to_sql(name = 'teams', index_label= None, index= False, con=engine, if_exists='replace')\n",
    "leagues_df.to_sql(name = 'leagues', index_label= None, index= False, con=engine, if_exists='replace')\n",
    "\n",
    "with engine.connect() as con:\n",
    "    con.execute('ALTER TABLE leagues ADD CONSTRAINT pk_Leagues PRIMARY KEY (\"league_ID\")')\n",
    "    con.execute('ALTER TABLE teams ADD CONSTRAINT pk_Teams PRIMARY KEY (\"team_ID\")')\n",
    "    con.execute('ALTER TABLE players ADD CONSTRAINT pk_Players PRIMARY KEY (\"players_ID\")')\n",
    "    con.execute('ALTER TABLE Teams ADD CONSTRAINT fk_Teams_league_ID FOREIGN KEY(\"league_ID\") REFERENCES Leagues (\"league_ID\");')\n",
    "    con.execute('ALTER TABLE Players ADD CONSTRAINT fk_Players_team_ID FOREIGN KEY(\"team_ID\") REFERENCES Teams (\"team_ID\");')"
   ]
  },
  {
   "cell_type": "code",
   "execution_count": null,
   "metadata": {},
   "outputs": [],
   "source": [
    "# read database\n",
    "pd.read_sql_query('SELECT * FROM  leagues JOIN (teams JOIN players USING(\"team_ID\")) USING (\"league_ID\")', con=engine)"
   ]
  },
  {
   "cell_type": "markdown",
   "metadata": {},
   "source": [
    "### Save query as JSON file"
   ]
  },
  {
   "cell_type": "code",
   "execution_count": null,
   "metadata": {},
   "outputs": [],
   "source": [
    "pd.read_sql_query('SELECT * FROM  leagues JOIN (teams JOIN players USING(\"team_ID\")) USING (\"league_ID\")', con=engine)\\\n",
    ".to_json(r'dashboard/static/data/data.json', orient='records')"
   ]
  },
  {
   "cell_type": "code",
   "execution_count": null,
   "metadata": {},
   "outputs": [],
   "source": [
    "print(json.dumps(pd.read_sql_query('SELECT * FROM  leagues JOIN (teams JOIN players USING(\"team_ID\")) USING (\"league_ID\")', con=engine), indent = 4, sort_keys=True))"
   ]
  },
  {
   "cell_type": "markdown",
   "metadata": {},
   "source": [
    " \\\n",
    " \\\n",
    "  \\\n",
    "  \\\n",
    "  \\\n",
    "  \\\n",
    "  \\.\n",
    "  "
   ]
  },
  {
   "cell_type": "markdown",
   "metadata": {},
   "source": [
    "## tests"
   ]
  },
  {
   "cell_type": "code",
   "execution_count": null,
   "metadata": {},
   "outputs": [],
   "source": [
    "# soccer_data1 = {\"Leagues\": [{\"league_ID\": 1, \"Name\": \"Bra1\", \"Link\": \"htmls....\", \"Country\": \"Brazil\", \"Tier\": 1},\\\n",
    "#                             {\"league_ID\": 2, \"Name\": \"Bra2\", \"Link\": \"htmls....\", \"Country\": \"Brazil\", \"Tier\": 2}],\\\n",
    "#                \"Clubs\": [{\"team_ID\" : 1, \"league_ID\": 1, \"club\" : \"Flamengo\", \"squad\" : 30, \"foreigners\" : 2, \"avg_market_m\" : 14.5,\n",
    "#                      \"total_MV_m\" : 50, \"Logo_img\" : \"htmls....\", \"link_page\" : \"htmls....\"},\n",
    "#                         {\"team_ID\" : 1, \"club\" : \"GOIAS\", \"squad\" : 25, \"foreigners\" : 5, \"avg_market_m\" : 10.5,\n",
    "#                      \"total_MV_m\" : 40, \"Logo_img\" : \"htmls....\", \"link_page\" : \"htmls....\"}],\n",
    "#                \"Players\":[{\"players_ID\": 1, \"name\": \"Diego\", \"position\": \"GoalKeeper\",\"field_position\": \"GLK\", \"Age\":39,\"Nat\": \"Brazil\", \"Height\": 1.81, \"foot\": \"foot_1\", \"team_ID\": 1, 'dt_joined': \"dt_joined_1\",\"prev_team\": \"prev_team_1\",\"contract_expires\": \"contract_expires_1\", \"market_value\": \"market_value_1\",\"player_page\": \"player_page\"},\n",
    "#                          {\"players_ID\": 2, \"name\": \"Marcos\", \"position\": \"Midfielder\",\"field_position\": \"MID\", \"Age\":25,\"Nat\": \"USA\", \"Height\": 1.82, \"foot\": \"foot_1\", \"team_ID\": 1, 'dt_joined': \"dt_joined_1\",\"prev_team\": \"prev_team_1\",\"contract_expires\": \"contract_expires_1\", \"market_value\": \"market_value_1\",\"player_page\": \"player_page\"},\n",
    "#                          {\"players_ID\": 13, \"name\": \"GoalKeeper_BR\", \"position\": \"GoalKeeper\",\"field_position\": \"GLK\", \"Age\":27,\"Nat\": \"Brazil\", \"Height\": 0, \"foot\": \"foot_1\", \"team_ID\": 1, 'dt_joined': \"dt_joined_1\",\"prev_team\": \"prev_team_1\",\"contract_expires\": \"contract_expires_1\", \"market_value\": \"market_value_1\",\"player_page\": \"player_page\"},\n",
    "#                           {\"players_ID\": 3, \"name\": \"Saulo\", \"position\": \"GoalKeeper\",\"field_position\": \"GLK\", \"Age\":27,\"Nat\": \"Brazil\", \"Height\": 1.83, \"foot\": \"foot_1\", \"team_ID\": 1, 'dt_joined': \"dt_joined_1\",\"prev_team\": \"prev_team_1\",\"contract_expires\": \"contract_expires_1\", \"market_value\": \"market_value_1\",\"player_page\": \"player_page\"},\n",
    "#                           {\"players_ID\": 4, \"name\": \"Marcos*2\", \"position\": \"Midfielder\",\"field_position\": \"MID\", \"Age\":25,\"Nat\": \"Brazil\", \"Height\": 1.84, \"foot\": \"foot_1\", \"team_ID\": 1, 'dt_joined': \"dt_joined_1\",\"prev_team\": \"prev_team_1\",\"contract_expires\": \"contract_expires_1\", \"market_value\": \"market_value_1\",\"player_page\": \"player_page\"},\n",
    "#                          {\"players_ID\": 5, \"name\": \"Saulo*2\", \"position\": \"GoalKeeper\",\"field_position\": \"GLK\", \"Age\":27,\"Nat\": \"Brazil\", \"Height\": 1.84, \"foot\": \"foot_1\", \"team_ID\": 1, 'dt_joined': \"dt_joined_1\",\"prev_team\": \"prev_team_1\",\"contract_expires\": \"contract_expires_1\", \"market_value\": \"market_value_1\",\"player_page\": \"player_page\"},\n",
    "#                           {\"players_ID\": 6, \"name\": \"Marcos**3\", \"position\": \"Midfielder\",\"field_position\": \"MID\", \"Age\":25,\"Nat\": \"USA\", \"Height\": 1.85, \"foot\": \"foot_1\", \"team_ID\": 1, 'dt_joined': \"dt_joined_1\",\"prev_team\": \"prev_team_1\",\"contract_expires\": \"contract_expires_1\", \"market_value\": \"market_value_1\",\"player_page\": \"player_page\"},\n",
    "#                          {\"players_ID\": 7, \"name\": \"Saulo**3\", \"position\": \"GoalKeeper\",\"field_position\": \"GLK\", \"Age\":27,\"Nat\": \"Brazil\", \"Height\": 1.86, \"foot\": \"foot_1\", \"team_ID\": 1, 'dt_joined': \"dt_joined_1\",\"prev_team\": \"prev_team_1\",\"contract_expires\": \"contract_expires_1\", \"market_value\": \"market_value_1\",\"player_page\": \"player_page\"},\n",
    "#                           {\"players_ID\": 8, \"name\": \"Marcos***4\", \"position\": \"Midfielder\",\"field_position\": \"MID\", \"Age\":25,\"Nat\": \"USA\", \"Height\": 1.87, \"foot\": \"foot_1\", \"team_ID\": 1, 'dt_joined': \"dt_joined_1\",\"prev_team\": \"prev_team_1\",\"contract_expires\": \"contract_expires_1\", \"market_value\": \"market_value_1\",\"player_page\": \"player_page\"},\n",
    "#                          {\"players_ID\": 9, \"name\": \"Saulo***4\", \"position\": \"GoalKeeper\",\"field_position\": \"GLK\", \"Age\":27,\"Nat\": \"Brazil\", \"Height\": 1.88, \"foot\": \"foot_1\", \"team_ID\": 1, 'dt_joined': \"dt_joined_1\",\"prev_team\": \"prev_team_1\",\"contract_expires\": \"contract_expires_1\", \"market_value\": \"market_value_1\",\"player_page\": \"player_page\"},\n",
    "#                           {\"players_ID\": 10, \"name\": \"Marcos****5\", \"position\": \"Midfielder\",\"field_position\": \"MID\", \"Age\":25,\"Nat\": \"Brazil\", \"Height\": 1.89, \"foot\": \"foot_1\", \"team_ID\": 1, 'dt_joined': \"dt_joined_1\",\"prev_team\": \"prev_team_1\",\"contract_expires\": \"contract_expires_1\", \"market_value\": \"market_value_1\",\"player_page\": \"player_page\"},\n",
    "#                          {\"players_ID\": 11, \"name\": \"Saulo****5\", \"position\": \"GoalKeeper\",\"field_position\": \"GLK\", \"Age\":27,\"Nat\": \"USA\", \"Height\": 1.90, \"foot\": \"foot_1\", \"team_ID\": 1, 'dt_joined': \"dt_joined_1\",\"prev_team\": \"prev_team_1\",\"contract_expires\": \"contract_expires_1\", \"market_value\": \"market_value_1\",\"player_page\": \"player_page\"},\n",
    "#                           {\"players_ID\": 12, \"name\": \"Midfielder_BR\", \"position\": \"Midfielder\",\"field_position\": \"MID\", \"Age\":25,\"Nat\": \"Brazil\", \"Height\": 0, \"foot\": \"foot_1\", \"team_ID\": 1, 'dt_joined': \"dt_joined_1\",\"prev_team\": \"prev_team_1\",\"contract_expires\": \"contract_expires_1\", \"market_value\": \"market_value_1\",\"player_page\": \"player_page\"},\n",
    "                         \n",
    "#                          {\"players_ID\": 14, \"name\": \"MID_USA\", \"position\": \"Middd\",\"field_position\": \"MID\", \"Age\":29,\"Nat\": \"USA\", \"Height\": 0, \"foot\": \"foot_1\", \"team_ID\": 1, 'dt_joined': \"dt_joined_1\",\"prev_team\": \"prev_team_1\",\"contract_expires\": \"contract_expires_1\", \"market_value\": \"market_value_1\",\"player_page\": \"player_page\"}\n",
    "#                          ]}\n",
    "\n"
   ]
  },
  {
   "cell_type": "code",
   "execution_count": null,
   "metadata": {},
   "outputs": [],
   "source": [
    "# teams_df = \"data/BRAZIL_1_BRA_A_trmk.csv\"\n",
    "\n",
    "# scrape_team_data1(teams_df)"
   ]
  },
  {
   "cell_type": "code",
   "execution_count": null,
   "metadata": {},
   "outputs": [],
   "source": [
    "# bra_1= pd.read_csv(\"data/teams_trmk.csv\")\n",
    "# bra_1"
   ]
  },
  {
   "cell_type": "code",
   "execution_count": null,
   "metadata": {},
   "outputs": [],
   "source": [
    "# bra_1.dtypes"
   ]
  },
  {
   "cell_type": "code",
   "execution_count": null,
   "metadata": {},
   "outputs": [],
   "source": [
    "# bra_1[\"club\"] = bra_1[\"club\"].astype(str)\n",
    "# # bra_1.dtypes"
   ]
  },
  {
   "cell_type": "code",
   "execution_count": null,
   "metadata": {},
   "outputs": [],
   "source": [
    "# files = glob('data/*.csv', recursive=True)\n",
    "# scrape_team_data1(files)\n"
   ]
  },
  {
   "cell_type": "code",
   "execution_count": null,
   "metadata": {},
   "outputs": [],
   "source": [
    "# df_league = pd.read_csv(teams_df)\n",
    "# df_league"
   ]
  },
  {
   "cell_type": "code",
   "execution_count": null,
   "metadata": {},
   "outputs": [],
   "source": [
    "# contratcs = [\"15.06.2024\", \"30.12.2024\", \"30.06.2024\"]\n",
    "\n",
    "# for contratc in contratcs:\n",
    "# #     try:\n",
    "# # #         contratc_expires_1 = datetime.strptime(contratc, '%d.%m.%Y').date()\n",
    "# #         dt_joined_1 = datetime.strptime(contratc, '%b %d, %Y').date()\n",
    "# #     except:\n",
    "# # #         contract_expires_1 = \"01/01/2030\"\n",
    "# #         dt_joined_1 = \"2019-01-01\"\n",
    "#     try:\n",
    "#         contratc_expires_1 = datetime.strptime(contratc, '%d.%m.%Y').date()\n",
    "# #         dt_joined_1 = datetime.strptime(contratc, '%b %d, %Y').date()\n",
    "#     except:\n",
    "#         contract_expires_1 = \"2030-01-01\"\n",
    "# #         dt_joined_1 = \"01/01/2019\"\n",
    "\n",
    "#     print(contratc_expires_1)\n",
    "    "
   ]
  },
  {
   "cell_type": "code",
   "execution_count": null,
   "metadata": {
    "scrolled": true
   },
   "outputs": [],
   "source": [
    "# fla= pd.read_csv(\"data/players_trmk.csv\")\n",
    "# fla"
   ]
  },
  {
   "cell_type": "code",
   "execution_count": null,
   "metadata": {
    "scrolled": true
   },
   "outputs": [],
   "source": [
    "# fla.dtypes"
   ]
  },
  {
   "cell_type": "code",
   "execution_count": null,
   "metadata": {},
   "outputs": [],
   "source": [
    "# flamengp = \"https://www.transfermarkt.com/clube-de-regatas-do-flamengo/kader/verein/614/saison_id/2019/plus/1\"\n",
    "# team_name = goias.split('/')[-8]\n",
    "# print(f\"scraping: {team_name}\")\n",
    "# team_id = 1\n",
    "      \n",
    "\n",
    "    \n",
    "# html = requests.get(goias, headers=headers)\n",
    "# soup = BeautifulSoup(html.content, 'html.parser')\n",
    "# htmltable = soup.find('table', class_= \"items\")\n",
    "\n",
    "# results = htmltable.findAll(\"tr\", class_ =[\"odd\",\"even\"])\n",
    "\n",
    "# player_id = 1\n",
    "# name = []\n",
    "# player_page = []\n",
    "# position = []\n",
    "# f_posi = []\n",
    "# Age = []\n",
    "# Nat = []\n",
    "# Height = []\n",
    "# foot = []\n",
    "# dt_joined = []\n",
    "# prev_team = []\n",
    "# contract_expires = []\n",
    "# market_value = []\n",
    "# team_ID = []\n",
    "# players_ID = []\n",
    "\n",
    "\n",
    "# for result in results:\n",
    "#     features = result.findAll(\"td\")\n",
    "\n",
    "#     name_1 = features[2].find(\"img\", alt=True)[\"alt\"]\n",
    "\n",
    "#     player_page.append(\"https://www.transfermarkt.com\" + features[3].find(\"a\", href=True)[\"href\"])\n",
    "\n",
    "#     position_1 = features[4].text\n",
    "    \n",
    "#     if position_1 in (\"Centre-Back\", \"Left-Back\", \"Right-Back\", \"Defender\"):\n",
    "#         field_posit = \"DEF\"\n",
    "#     elif position_1 in (\"Defensive Midfield\", \"Central Midfield\" , \"Right Midfield\" , \"Left Midfield\" , \\\n",
    "#     \"Attacking Midfield\" , \"Midfield\"):\n",
    "#         field_posit = \"MID\"\n",
    "#     elif position_1 in (\"Left Winger\" , \"Right Winger\" , \"Centre-Forward\" , \"Second Striker\" , \"Forward\"):\n",
    "#         field_posit = \"ATT\"\n",
    "#     else:\n",
    "#         field_posit = \"GLK\"\n",
    "#     try:\n",
    "#         age_1 = int((features[5].text.split(\"(\",)[-1])[:-1])\n",
    "#     except:\n",
    "#         age_1 = \"-\"\n",
    "\n",
    "#     nat = features[6].img[\"alt\"]\n",
    "\n",
    "#     try:\n",
    "#         Height_1 = float((features[7].text.split(\" \")[0]).replace(\",\", \".\"))\n",
    "#     except:\n",
    "#         Height_1 = \"0\"\n",
    "\n",
    "#     foot_1 = features[8].text\n",
    "\n",
    "#     dt_joined_1 = features[9].text\n",
    "#     try:\n",
    "#         dt_joined_1 = datetime.strptime(dt_joined_1, '%b %d, %Y').date()\n",
    "#     except:\n",
    "#         dt_joined_1 = \"2019-01-01\"\n",
    "\n",
    "#     try:\n",
    "#         prev_team_1 = features[10].img[\"alt\"]\n",
    "#     except:\n",
    "#         prev_team_1 = \"-\"\n",
    "\n",
    "\n",
    "#     contract_expires_1 = features[11].text\n",
    "#     try:\n",
    "#         contratc_expires_1 = datetime.strptime(contratc_expires_1, '%d.%m.%Y').date()\n",
    "#     except:\n",
    "#         contract_expires_1 = \"2030-01-01\"\n",
    "\n",
    "\n",
    "#     try:\n",
    "#         market_value_1 = get_value_us(features[12].text[:-2])\n",
    "#     except:\n",
    "#         market_value_1 = 0\n",
    "\n",
    "#     name.append(strip_accents(name_1))\n",
    "#     position.append(position_1)\n",
    "#     f_posi.append(field_posit)\n",
    "#     Age.append(age_1)\n",
    "#     Nat.append(nat)\n",
    "#     Height.append(Height_1)\n",
    "#     foot.append(foot_1)\n",
    "#     dt_joined.append(dt_joined_1)\n",
    "#     prev_team.append(strip_accents(prev_team_1))\n",
    "#     contract_expires.append(contract_expires_1)\n",
    "#     market_value.append(market_value_1)\n",
    "#     team_ID.append(team_id)\n",
    "#     players_ID.append(player_id)\n",
    "#     player_id = player_id+1\n",
    "\n",
    "# #     time.sleep(randint(3,5))\n",
    "\n",
    "# df = pd.DataFrame(list(zip(players_ID, team_ID, name, position,f_posi, Age,Nat, Height, foot,dt_joined,prev_team, contract_expires,\\\n",
    "#                            market_value,player_page)), \n",
    "#                   columns =[\"players_ID\", \"team_ID\",\"name\",\"position\",\"field_position\", \"Age\", \"Nat\",\"Height\",\"foot\",'dt_joined',\"prev_team\", \\\n",
    "#                             \"contract_expires\", \"market_value\",\"player_page\" ])\n",
    "# df['players_ID'] = df['players_ID'].astype(int)\n",
    "# df['team_ID'] = df['team_ID'].astype(int)\n",
    "# df['dt_joined'] = pd.to_datetime(df['dt_joined'])\n",
    "# df['contract_expires'] = pd.to_datetime(df['contract_expires'])\n",
    "\n",
    "\n",
    "# df\n"
   ]
  },
  {
   "cell_type": "code",
   "execution_count": null,
   "metadata": {},
   "outputs": [],
   "source": [
    "# df.dtypes"
   ]
  },
  {
   "cell_type": "code",
   "execution_count": null,
   "metadata": {},
   "outputs": [],
   "source": [
    "# from datetime import datetime\n",
    "\n",
    "# df_copy = df.copy()\n",
    "\n",
    "# for date in df_copy[\"contract_expires\"]:\n",
    "#     try:\n",
    "#         date = datetime.strptime(date, '%d.%m.%Y').date()\n",
    "#     except:\n",
    "#         date = '-' \n",
    "#     print(date)\n"
   ]
  },
  {
   "cell_type": "code",
   "execution_count": null,
   "metadata": {},
   "outputs": [],
   "source": [
    "# fla_copy = fla.copy()\n",
    "\n",
    "# for date in fla_copy[\"dt_joined\"]:\n",
    "#     try:\n",
    "#         date = datetime.strptime(date, '%b %d, %Y').date()\n",
    "#     except:\n",
    "#         date = \"-\"\n",
    "#     print(date)"
   ]
  },
  {
   "cell_type": "code",
   "execution_count": null,
   "metadata": {},
   "outputs": [],
   "source": [
    "# name_1 = features[2].find(\"img\", alt=True)[\"alt\"]\n",
    "# position_1 = features[4].text\n",
    "# DoB_1 = int((features[5].text.split(\"(\",)[-1])[:-1])\n",
    "# nat = features[6].img[\"alt\"]\n",
    "# Height_1 = float((features[7].text.split(\" \")[0]).replace(\",\", \".\"))\n",
    "# foot_1 = features[8].text\n",
    "# dt_joined_1 = features[9].text\n",
    "# prev_team_1 = features[10].img[\"alt\"]\n",
    "# contract_expires_1 = features[11].text\n",
    "# market_value_1 = get_value_us(features[12].text[:-2])\n",
    "\n",
    "# print(name_1, position_1,DoB_1, nat, Height_1,foot_1,dt_joined_1,prev_team_1,contract_expires_1,market_value_1   )\n"
   ]
  },
  {
   "cell_type": "code",
   "execution_count": null,
   "metadata": {},
   "outputs": [],
   "source": [
    "# pd.read_csv(\"data/teams/goias-esporte-clube_trmk.csv\")"
   ]
  },
  {
   "cell_type": "code",
   "execution_count": null,
   "metadata": {},
   "outputs": [],
   "source": [
    "# # Retrieve page with the requests module\n",
    "# url = \"https://www.transfermarkt.com/major-league-soccer/startseite/wettbewerb/MLS1\"\n",
    "# html = requests.get(url, headers=headers)"
   ]
  },
  {
   "cell_type": "code",
   "execution_count": null,
   "metadata": {},
   "outputs": [],
   "source": [
    "# # Create BeautifulSoup object; parse with 'html.parser'\n",
    "# soup = BeautifulSoup(html.content, 'html.parser')\n",
    "# htmltable = soup.find('table', class_= \"items\")\n",
    "# text1 = htmltable.text\n",
    "# text1"
   ]
  },
  {
   "cell_type": "code",
   "execution_count": null,
   "metadata": {},
   "outputs": [],
   "source": [
    "# #Examine the results, then determine element that contains sought info\n",
    "# print(soup.prettify())"
   ]
  },
  {
   "cell_type": "code",
   "execution_count": null,
   "metadata": {},
   "outputs": [],
   "source": [
    "# results = htmltable.findAll(\"tr\", class_ =[\"odd\",\"even\"])\n",
    "# print(results[0])\n",
    "# print(len(results))"
   ]
  },
  {
   "cell_type": "code",
   "execution_count": null,
   "metadata": {},
   "outputs": [],
   "source": [
    "# # to Download imgs\n",
    "# for img in logos:\n",
    "#         with open(basename(img), \"wb\") as f:\n",
    "#             f.write(requests.get(img).content)"
   ]
  },
  {
   "cell_type": "code",
   "execution_count": null,
   "metadata": {},
   "outputs": [],
   "source": [
    "# names= []\n",
    "# for result in results:\n",
    "#     names.append(result.find(\"img\", alt=True)[\"alt\"])\n",
    "    \n",
    "# names"
   ]
  },
  {
   "cell_type": "code",
   "execution_count": null,
   "metadata": {},
   "outputs": [],
   "source": [
    "## Extrating a table from HTML\n",
    "# htmltable2 = str(htmltable)\n",
    "# dfs = pd.read_html(htmltable2)\n",
    "# df_clean = dfs[0][[\"Club.1\",\"name.1\", \"ø age\", \"Total market value\", \"ø market value\" ]]\n",
    "# df_clean = df_clean.drop(df_clean.index[len(df_clean.index)-1])\n",
    "# df = df_clean.set_axis([\"Club\",\"Squad\", \"Foreigners\", \"avg_market_value\" , \"total_market_value\"], axis=1, inplace=False)"
   ]
  },
  {
   "cell_type": "markdown",
   "metadata": {},
   "source": [
    "<td class=\"zentriert no-border-rechts\">\n",
    "    <a class=\"vereinprofil_tooltip\" href=\"/los-angeles-football-club/startseite/verein/51828/saison_id/2019\">\n",
    "        <img alt=\"Los Angeles FC\" class=\"tiny_wappen\" src=\"https://tmssl.akamaized.net//images/wappen/tiny/51828.png?lm=1511112738\" title=\" \"/>\n",
    "    </a>\n",
    "</td>\n",
    "<td class=\"hauptlink no-border-links hide-for-small hide-for-pad\">\n",
    "    <a class=\"vereinprofil_tooltip\" href=\"/los-angeles-football-club/startseite/verein/51828/saison_id/2019\" id=\"51828\">\n",
    "        Los Angeles FC\n",
    "    </a>\n",
    "</td>\n",
    "<td class=\"hauptlink no-border-links show-for-small show-for-pad\">\n",
    "    <a class=\"vereinprofil_tooltip\" href=\"/los-angeles-football-club/startseite/verein/51828/saison_id/2019\" id=\"51828\">\n",
    "        Los Angeles FC\n",
    "    </a>\n",
    "</td>\n",
    "<td class=\"zentriert\">\n",
    "    <a href=\"/los-angeles-fc/kader/verein/51828/saison_id/2019\" title=\"Los Angeles FC\">\n",
    "    24\n",
    "    </a>\n",
    "</td>\n",
    "<td class=\"zentriert hide-for-small hide-for-pad\">\n",
    "    26,1\n",
    "</td>\n",
    "<td class=\"zentriert hide-for-pad hide-for-small\">\n",
    "    17\n",
    "</td>\n",
    "<td class=\"rechts hide-for-small hide-for-pad\">\n",
    "    <a href=\"/los-angeles-fc/kader/verein/51828/saison_id/2019\" title=\"Los Angeles FC\">\n",
    "    €49.20m\n",
    "    </a>\n",
    "</td>\n",
    "<td class=\"rechts hide-for-small hide-for-pad\">\n",
    "    €2.05m\n",
    "</td>\n",
    "<td class=\"rechts show-for-small show-for-pad nowrap\">\n",
    "    <a href=\"/los-angeles-fc/kader/verein/51828/saison_id/2019\" title=\"Los Angeles FC\">\n",
    "        €49.20m\n",
    "    </a>\n",
    "</td>\n",
    "<td class=\"rechts show-for-small show-for-pad nowrap\">\n",
    "    €2.05m\n",
    "</td>\n"
   ]
  },
  {
   "cell_type": "code",
   "execution_count": null,
   "metadata": {},
   "outputs": [],
   "source": [
    "# def get_value(x):\n",
    "#     value = []\n",
    "#     for char in x:\n",
    "#         value.append(char)\n",
    "#     float_value = \"\".join(value[1:-1])\n",
    "#     return float(float_value)"
   ]
  },
  {
   "cell_type": "code",
   "execution_count": null,
   "metadata": {},
   "outputs": [],
   "source": [
    "# get_value(fdf[6].text)"
   ]
  },
  {
   "cell_type": "code",
   "execution_count": null,
   "metadata": {},
   "outputs": [],
   "source": [
    "# # URLs of page to be scraped\n",
    "# bra = {\"BRAZIL\": {\"leagues\":[{\"tier_1\":'https://www.transfermarkt.com/campeonato-brasileiro-serie-a/startseite/wettbewerb/BRA1'},\n",
    "#                  {\"tier_2\": \"https://www.transfermarkt.com/campeonato-brasileiro-serie-a/startseite/wettbewerb/BRA2\"}]}},\n",
    "# us = {\"UNITED_STATES\": {\"leagues\":[{\"tier_1\": \"https://www.transfermarkt.com/major-league-soccer/startseite/wettbewerb/MLS1\"},\n",
    "#                   {\"tier_2\":\"https://www.transfermarkt.com/usl-pro/startseite/wettbewerb/USL\"}, \n",
    "#                   {\"tier_3\":\"https://www.transfermarkt.com/usl-league-one/startseite/wettbewerb/USC3\"}]}}\n",
    "# urls= [bra, us]"
   ]
  },
  {
   "cell_type": "code",
   "execution_count": null,
   "metadata": {},
   "outputs": [],
   "source": [
    "# def scrape_league_data(leagues_df):\n",
    "#     team_id = 1\n",
    "#     for index, row in leagues_df.iterrows():\n",
    "#         url = row[\"league_link\"]\n",
    "#         league_name = row[\"league_name\"]\n",
    "#         tier = row[\"tier\"]\n",
    "#         country = row[\"country\"]\n",
    "#         league_id = row[\"league_ID\"]\n",
    "#         print(f\"scraping: {country}_{tier}_{league_name}\")\n",
    "#         html = requests.get(url, headers=headers)\n",
    "#         soup = BeautifulSoup(html.content, 'html.parser')\n",
    "#         htmltable = soup.find('table', class_= \"items\")\n",
    "\n",
    "\n",
    "#         results = htmltable.findAll(\"tr\", class_ =[\"odd\",\"even\"])\n",
    "\n",
    "\n",
    "#         team_ID = []\n",
    "#         links = []\n",
    "#         names = []\n",
    "#         logos = []\n",
    "#         squads = []\n",
    "#         foreigners = []\n",
    "#         total_MVs = []\n",
    "#         avg_MVs = []\n",
    "#         league_ID = []\n",
    "\n",
    "\n",
    "\n",
    "#         for result in results:\n",
    "#             features = result.findAll(\"td\")\n",
    "#             links.append((\"https://www.transfermarkt.com\"+result.find(\"a\", href=True)\\\n",
    "#                           [\"href\"]+\"/plus/1\").replace(\"startseite\", \"kader\"))\n",
    "#             logo = result.find(\"img\", src=True)[\"src\"]\n",
    "#             logo = logo.split(\"?\")[0]\n",
    "#             logo = logo.replace(\"tiny\", \"header\")\n",
    "#             logos.append(logo)\n",
    "#             name = features[1].text\n",
    "#             names.append(name)\n",
    "#             squad = features[3].text\n",
    "#             squads.append(squad)\n",
    "#             foreigner = features[5].text\n",
    "#             foreigners.append(foreigner)\n",
    "#             total_MV = get_value_us(features[6].text)\n",
    "#             total_MVs.append(total_MV)\n",
    "#             avg_MV = get_value_us(features[7].text)\n",
    "#             avg_MVs.append(avg_MV)\n",
    "#             team_ID.append(team_id)\n",
    "#             league_ID.append(league_id)\n",
    "#             team_id = team_id + 1\n",
    "\n",
    "\n",
    "\n",
    "#         # Create a Dataframe and export to a .csv file\n",
    "#         df = pd.DataFrame(list(zip(team_ID, league_ID, names, squads, foreigners,avg_MVs, total_MVs, logos,links)), \\\n",
    "#     columns =[\"team_ID\", \"league_ID\",\"club\",\"squad\", \"foreigners\", \"avg_market_value_m\", \"total_MV_m\",'Logo_img', \"link_page\"]) \n",
    "#         df['league_ID'] = df['league_ID'].astype(int)\n",
    "#         df['team_ID'] = df['team_ID'].astype(int)\n",
    "\n",
    "#         df.to_csv(f'data/{country}_{tier}_{league_name}_trmk.csv',index=False)\n",
    "\n",
    "\n",
    "#         time.sleep(1)"
   ]
  },
  {
   "cell_type": "code",
   "execution_count": null,
   "metadata": {},
   "outputs": [],
   "source": [
    "# def scrape_team_data(files):\n",
    "#     player_id = 1\n",
    "#     for filename in files:\n",
    "#         print(filename)\n",
    "#         time.sleep(5)\n",
    "#         df_league = pd.read_csv(filename)\n",
    "#         for index, row in df_league.iterrows():\n",
    "#             team_id = row[\"team_ID\"]\n",
    "#             team = row[\"link_page\"]\n",
    "#             team_name = team.split('/')[-8]\n",
    "#             print(team_name)\n",
    "#             html = requests.get(team, headers=headers)\n",
    "#             soup = BeautifulSoup(html.content, 'html.parser')\n",
    "#             htmltable = soup.find('table', class_= \"items\")\n",
    "\n",
    "#             results = htmltable.findAll(\"tr\", class_ =[\"odd\",\"even\"])\n",
    "#             name = []\n",
    "#             player_page = []\n",
    "#             position = []\n",
    "#             Age = []\n",
    "#             Nat = []\n",
    "#             Height = []\n",
    "#             foot = []\n",
    "#             dt_joined = []\n",
    "#             prev_team = []\n",
    "#             contract_expires = []\n",
    "#             market_value = []\n",
    "#             team_ID = []\n",
    "#             players_ID = []\n",
    "\n",
    "#             for result in results:\n",
    "#                 features = result.findAll(\"td\")\n",
    "\n",
    "#                 name_1 = features[2].find(\"img\", alt=True)[\"alt\"]\n",
    "\n",
    "#                 player_page.append(\"https://www.transfermarkt.com\" + features[3].find(\"a\", href=True)[\"href\"])\n",
    "\n",
    "#                 position_1 = features[4].text\n",
    "\n",
    "#                 try:\n",
    "#                     age_1 = int((features[5].text.split(\"(\",)[-1])[:-1])\n",
    "#                 except:\n",
    "#                     age_1 = \"-\"\n",
    "\n",
    "#                 nat = features[6].img[\"alt\"]\n",
    "\n",
    "#                 try:\n",
    "#                     Height_1 = float((features[7].text.split(\" \")[0]).replace(\",\", \".\"))\n",
    "#                 except:\n",
    "#                     Height_1 = \"m\"\n",
    "\n",
    "#                 foot_1 = features[8].text\n",
    "\n",
    "#                 dt_joined_1 = features[9].text\n",
    "#                 try:\n",
    "#                     dt_joined_1 = datetime.strptime(dt_joined_1, '%b %d, %Y').date()\n",
    "#                 except:\n",
    "#                     dt_joined_1 = \"-\"\n",
    "\n",
    "#                 try:\n",
    "#                     prev_team_1 = features[10].img[\"alt\"]\n",
    "#                 except:\n",
    "#                     prev_team_1 = \"-\"\n",
    "\n",
    "\n",
    "#                 contract_expires_1 = features[11].text\n",
    "#                 try:\n",
    "#                     contratc_expires_1 = datetime.strptime(contratc_expires_1, '%d.%m.%Y').date()\n",
    "#                 except:\n",
    "#                     contract_expires_1 = features[11].text\n",
    "\n",
    "\n",
    "#                 try:\n",
    "#                     market_value_1 = get_value_us(features[12].text[:-2])\n",
    "#                 except:\n",
    "#                     market_value_1 = 0\n",
    "\n",
    "#                 name.append(name_1)\n",
    "#                 position.append(position_1)\n",
    "#                 Age.append(age_1)\n",
    "#                 Nat.append(nat)\n",
    "#                 Height.append(Height_1)\n",
    "#                 foot.append(foot_1)\n",
    "#                 dt_joined.append(dt_joined_1)\n",
    "#                 prev_team.append(prev_team_1)\n",
    "#                 contract_expires.append(contract_expires_1)\n",
    "#                 market_value.append(market_value_1)\n",
    "#                 team_ID.append(team_id)\n",
    "#                 players_ID.append(player_id)\n",
    "#                 player_id = player_id+1\n",
    "\n",
    "#             df = pd.DataFrame(list(zip(players_ID, team_ID, name, position, Age,Nat, Height, foot,dt_joined,prev_team, contract_expires,\\\n",
    "#                                        market_value,player_page)), \n",
    "#                               columns =[\"players_ID\", \"team_ID\",\"name\",\"position\", \"Age\", \"Nat\",\"Height\",\"foot\",'dt_joined',\"prev_team\", \\\n",
    "#                                         \"contract_expires\", \"market_value\",\"player_page\" ])\n",
    "#             df['players_ID'] = df['players_ID'].astype(int)\n",
    "#             df['team_ID'] = df['team_ID'].astype(int)\n",
    "            \n",
    "\n",
    "#             df.to_csv(f\"data/teams/{team_name}_trmk.csv\" ,index=False)\n",
    "#             time.sleep(1)"
   ]
  }
 ],
 "metadata": {
  "kernelspec": {
   "display_name": "Python 3",
   "language": "python",
   "name": "python3"
  },
  "language_info": {
   "codemirror_mode": {
    "name": "ipython",
    "version": 3
   },
   "file_extension": ".py",
   "mimetype": "text/x-python",
   "name": "python",
   "nbconvert_exporter": "python",
   "pygments_lexer": "ipython3",
   "version": "3.7.4"
  }
 },
 "nbformat": 4,
 "nbformat_minor": 2
}
